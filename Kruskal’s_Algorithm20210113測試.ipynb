{
  "nbformat": 4,
  "nbformat_minor": 0,
  "metadata": {
    "colab": {
      "name": "Kruskal’s Algorithm.ipynb",
      "provenance": [],
      "authorship_tag": "ABX9TyPJeYkEVFV4mNJp6BbF9I23",
      "include_colab_link": true
    },
    "kernelspec": {
      "name": "python3",
      "display_name": "Python 3"
    }
  },
  "cells": [
    {
      "cell_type": "markdown",
      "metadata": {
        "id": "view-in-github",
        "colab_type": "text"
      },
      "source": [
        "<a href=\"https://colab.research.google.com/github/erichooo9029/algorithm/blob/master/Kruskal%E2%80%99s_Algorithm20210113%E6%B8%AC%E8%A9%A6.ipynb\" target=\"_parent\"><img src=\"https://colab.research.google.com/assets/colab-badge.svg\" alt=\"Open In Colab\"/></a>"
      ]
    },
    {
      "cell_type": "code",
      "metadata": {
        "colab": {
          "base_uri": "https://localhost:8080/"
        },
        "id": "Rz-dA5Ene6Yo",
        "outputId": "6479def3-0f2c-49e9-db6b-694f2b7940df"
      },
      "source": [
        "# class to represent a disjoint set\r\n",
        "class DisjointSet:\r\n",
        "    parent = {}\r\n",
        " \r\n",
        "    # perform MakeSet operation\r\n",
        "    def makeSet(self, N):\r\n",
        " \r\n",
        "        # create N disjoint sets (one for each vertex)\r\n",
        "        for i in range(N):\r\n",
        "            self.parent[i] = i\r\n",
        " \r\n",
        "    # Find the root of the set in which element k belongs\r\n",
        "    def Find(self, k):\r\n",
        " \r\n",
        "        # if k is root\r\n",
        "        if self.parent[k] == k:\r\n",
        "            return k\r\n",
        " \r\n",
        "        # recur for parent until we find root\r\n",
        "        return self.Find(self.parent[k])\r\n",
        " \r\n",
        "    # Perform Union of two subsets\r\n",
        "    def Union(self, a, b):\r\n",
        " \r\n",
        "        # find root of the sets in which elements\r\n",
        "        # x and y belongs\r\n",
        "        x = self.Find(a)\r\n",
        "        y = self.Find(b)\r\n",
        " \r\n",
        "        self.parent[x] = y\r\n",
        " \r\n",
        " \r\n",
        "# construct MST using Kruskal's algorithm\r\n",
        "def KruskalAlgo(edges, N):\r\n",
        "    # stores edges present in MST\r\n",
        "    MST = []\r\n",
        " \r\n",
        "    # initialize DisjointSet class\r\n",
        "    # create singleton set for each element of universe\r\n",
        "    ds = DisjointSet()\r\n",
        "    ds.makeSet(N)\r\n",
        " \r\n",
        "    index = 0\r\n",
        " \r\n",
        "    # MST contains exactly V-1 edges\r\n",
        "    while len(MST) != N - 1:\r\n",
        " \r\n",
        "        # consider next edge with minimum weight from the graph\r\n",
        "        (src, dest, weight) = edges[index]\r\n",
        "        index = index + 1\r\n",
        " \r\n",
        "        # find root of the sets to which two endpoint\r\n",
        "        # vertices of next_edge belongs\r\n",
        "        x = ds.Find(src)\r\n",
        "        y = ds.Find(dest)\r\n",
        " \r\n",
        "        # if both endpoints have different parents, they beto\r\n",
        "        # different connected components and can be included in MST\r\n",
        "        if x != y:\r\n",
        "            MST.append((src, dest, weight))\r\n",
        "            ds.Union(x, y)\r\n",
        " \r\n",
        "    return MST\r\n",
        " \r\n",
        " \r\n",
        "if __name__ == '__main__':\r\n",
        " \r\n",
        "    # (u, v, w) Triplet represent undirected edge from\r\n",
        "    # vertex u to vertex v having weight w\r\n",
        "    edges = [\r\n",
        "        (0, 1, 12), (0, 3, 13), (0, 2, 8) ,(3, 6, 9), (1, 2, 21), (1, 5, 7) ,\r\n",
        "        (2, 5, 2) ,(1, 4, 32)\r\n",
        "    ]\r\n",
        "\r\n",
        " \r\n",
        "    # sort edges by increasing weight\r\n",
        "    edges.sort(key=lambda x: x[2])\r\n",
        " \r\n",
        "    # Number of vertices in the graph\r\n",
        "    N = 7\r\n",
        " \r\n",
        "    # construct graph\r\n",
        "    e = KruskalAlgo(edges, N)\r\n",
        " \r\n",
        "    print(e)\r\n"
      ],
      "execution_count": 2,
      "outputs": [
        {
          "output_type": "stream",
          "text": [
            "[(2, 5, 2), (1, 5, 7), (0, 2, 8), (3, 6, 9), (0, 3, 13), (1, 4, 32)]\n"
          ],
          "name": "stdout"
        }
      ]
    }
  ]
}