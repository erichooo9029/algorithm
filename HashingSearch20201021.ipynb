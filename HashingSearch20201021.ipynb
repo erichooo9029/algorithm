{
  "nbformat": 4,
  "nbformat_minor": 0,
  "metadata": {
    "colab": {
      "name": "Untitled4.ipynb",
      "provenance": [],
      "authorship_tag": "ABX9TyMhobqDJ6rqvkxRmXH8Fle1",
      "include_colab_link": true
    },
    "kernelspec": {
      "name": "python3",
      "display_name": "Python 3"
    }
  },
  "cells": [
    {
      "cell_type": "markdown",
      "metadata": {
        "id": "view-in-github",
        "colab_type": "text"
      },
      "source": [
        "<a href=\"https://colab.research.google.com/github/erichooo9029/algorithm/blob/master/HashingSearch20201021.ipynb\" target=\"_parent\"><img src=\"https://colab.research.google.com/assets/colab-badge.svg\" alt=\"Open In Colab\"/></a>"
      ]
    },
    {
      "cell_type": "markdown",
      "metadata": {
        "id": "4SAlJudgIFk5"
      },
      "source": [
        "線性探測法\n"
      ]
    },
    {
      "cell_type": "code",
      "metadata": {
        "id": "vupTdo5ABEvn",
        "outputId": "92c1edab-4b96-4a0b-b41b-2c88f2bec0ce",
        "colab": {
          "base_uri": "https://localhost:8080/",
          "height": 221
        }
      },
      "source": [
        "import random\n",
        "INDEXBOX=10\n",
        "MAXNUM=7\n",
        "\n",
        "import random\n",
        "INDEXBOX = 10\n",
        "MAXNUM = 7\n",
        "def print_data(data,max_number):\n",
        "  print(\"\\t\",end = \"\")\n",
        "  for i in range(max_number):\n",
        "    print(\"[%2d]\"%data[i],end= \"\")\n",
        "  print()\n",
        "\n",
        "def create_table(num,index):\n",
        "  tmp = num%INDEXBOX\n",
        "  while True:\n",
        "    if index[tmp]==-1:\n",
        "      index[tmp]=num\n",
        "      break\n",
        "    else:\n",
        "      tmp=(tmp+1)%INDEXBOX\n",
        "\n",
        "#Main\n",
        "index = [None]*INDEXBOX\n",
        "data = [None]*MAXNUM\n",
        "print(\"原始陣列值:\")\n",
        "for i in range(MAXNUM):\n",
        "  data[i]=random.randint(1,20)\n",
        "for i in range(INDEXBOX):\n",
        "  index[i]=-1\n",
        "print_data(data,MAXNUM)\n",
        "\n",
        "print(\"雜湊表內容:\")\n",
        "for i in range(MAXNUM):\n",
        "  create_table(data[i],index)\n",
        "  print(\" %2d =>\" %data[i],end=\"\")\n",
        "  print_data(index,INDEXBOX)\n",
        "print(\"完成雜湊表:\")\n",
        "print_data(index,INDEXBOX)\n"
      ],
      "execution_count": 30,
      "outputs": [
        {
          "output_type": "stream",
          "text": [
            "原始陣列值:\n",
            "\t[ 2][ 9][11][19][ 1][10][18]\n",
            "雜湊表內容:\n",
            "  2 =>\t[-1][-1][ 2][-1][-1][-1][-1][-1][-1][-1]\n",
            "  9 =>\t[-1][-1][ 2][-1][-1][-1][-1][-1][-1][ 9]\n",
            " 11 =>\t[-1][11][ 2][-1][-1][-1][-1][-1][-1][ 9]\n",
            " 19 =>\t[19][11][ 2][-1][-1][-1][-1][-1][-1][ 9]\n",
            "  1 =>\t[19][11][ 2][ 1][-1][-1][-1][-1][-1][ 9]\n",
            " 10 =>\t[19][11][ 2][ 1][10][-1][-1][-1][-1][ 9]\n",
            " 18 =>\t[19][11][ 2][ 1][10][-1][-1][-1][18][ 9]\n",
            "完成雜湊表:\n",
            "\t[19][11][ 2][ 1][10][-1][-1][-1][18][ 9]\n"
          ],
          "name": "stdout"
        }
      ]
    },
    {
      "cell_type": "markdown",
      "metadata": {
        "id": "DiM_9Z33IJdP"
      },
      "source": [
        "平方探測法\n"
      ]
    },
    {
      "cell_type": "code",
      "metadata": {
        "id": "UJz4InpNIJMb",
        "outputId": "fde5b31e-5eba-4bed-8d40-6f3b4abb5d61",
        "colab": {
          "base_uri": "https://localhost:8080/",
          "height": 221
        }
      },
      "source": [
        "import random\n",
        "INDEXBOX=10\n",
        "MAXNUM=7\n",
        "\n",
        "import random\n",
        "INDEXBOX = 10\n",
        "MAXNUM = 7\n",
        "def print_data(data,max_number):\n",
        "  print(\"\\t\",end = \"\")\n",
        "  for i in range(max_number):\n",
        "    print(\"[%2d]\"%data[i],end= \"\")\n",
        "  print()\n",
        "\n",
        "def create_table(num,index):\n",
        "  tmp = num%INDEXBOX\n",
        "  k=1\n",
        "  while True:\n",
        "    if index[tmp]==-1:\n",
        "      index[tmp]=num\n",
        "      break\n",
        "    else:\n",
        "      tmp=(tmp+k*k)%INDEXBOX\n",
        "      k=k+1\n",
        "      \n",
        "      \n",
        "\n",
        "\n",
        "#Main\n",
        "index = [None]*INDEXBOX\n",
        "data = [None]*MAXNUM\n",
        "print(\"原始陣列值:\")\n",
        "for i in range(MAXNUM):\n",
        "  data[i]=random.randint(1,20)\n",
        "for i in range(INDEXBOX):\n",
        "  index[i]=-1\n",
        "print_data(data,MAXNUM)\n",
        "\n",
        "print(\"雜湊表內容:\")\n",
        "for i in range(MAXNUM):\n",
        "  create_table(data[i],index)\n",
        "  print(\" %2d =>\" %data[i],end=\"\")\n",
        "  print_data(index,INDEXBOX)\n",
        "print(\"完成雜湊表:\")\n",
        "print_data(index,INDEXBOX)\n"
      ],
      "execution_count": 58,
      "outputs": [
        {
          "output_type": "stream",
          "text": [
            "原始陣列值:\n",
            "\t[ 7][10][ 7][18][18][ 8][ 9]\n",
            "雜湊表內容:\n",
            "  7 =>\t[-1][-1][-1][-1][-1][-1][-1][ 7][-1][-1]\n",
            " 10 =>\t[10][-1][-1][-1][-1][-1][-1][ 7][-1][-1]\n",
            "  7 =>\t[10][-1][-1][-1][-1][-1][-1][ 7][ 7][-1]\n",
            " 18 =>\t[10][-1][-1][-1][-1][-1][-1][ 7][ 7][18]\n",
            " 18 =>\t[10][-1][-1][18][-1][-1][-1][ 7][ 7][18]\n",
            "  8 =>\t[10][-1][ 8][18][-1][-1][-1][ 7][ 7][18]\n",
            "  9 =>\t[10][-1][ 8][18][ 9][-1][-1][ 7][ 7][18]\n",
            "完成雜湊表:\n",
            "\t[10][-1][ 8][18][ 9][-1][-1][ 7][ 7][18]\n"
          ],
          "name": "stdout"
        }
      ]
    },
    {
      "cell_type": "markdown",
      "metadata": {
        "id": "3Dfiy0yaJYTM"
      },
      "source": [
        "再雜湊"
      ]
    },
    {
      "cell_type": "code",
      "metadata": {
        "id": "Mbd7ZEKCJcXP",
        "outputId": "46e2d4a3-a965-497a-ff99-c511e0085bcd",
        "colab": {
          "base_uri": "https://localhost:8080/",
          "height": 221
        }
      },
      "source": [
        "import random\n",
        "INDEXBOX=10\n",
        "MAXNUM=7\n",
        "\n",
        "import random\n",
        "INDEXBOX = 10\n",
        "MAXNUM = 7\n",
        "def print_data(data,max_number):\n",
        "  print(\"\\t\",end = \"\")\n",
        "  for i in range(max_number):\n",
        "    print(\"[%2d]\"%data[i],end= \"\")\n",
        "  print()\n",
        "\n",
        "def create_table(num,index):\n",
        "  tmp = num%INDEXBOX\n",
        "  g=1\n",
        "  while True:\n",
        "    if index[tmp]==-1:\n",
        "      index[tmp]=num\n",
        "      break\n",
        "    else:\n",
        "      tmp=(tmp+g*2)%INDEXBOX\n",
        "      g=g+1\n",
        "\n",
        "#Main\n",
        "index = [None]*INDEXBOX\n",
        "data = [None]*MAXNUM\n",
        "print(\"原始陣列值:\")\n",
        "for i in range(MAXNUM):\n",
        "  data[i]=random.randint(1,20)\n",
        "for i in range(INDEXBOX):\n",
        "  index[i]=-1\n",
        "print_data(data,MAXNUM)\n",
        "\n",
        "print(\"雜湊表內容:\")\n",
        "for i in range(MAXNUM):\n",
        "  create_table(data[i],index)\n",
        "  print(\" %2d =>\" %data[i],end=\"\")\n",
        "  print_data(index,INDEXBOX)\n",
        "print(\"完成雜湊表:\")\n",
        "print_data(index,INDEXBOX)\n"
      ],
      "execution_count": 46,
      "outputs": [
        {
          "output_type": "stream",
          "text": [
            "原始陣列值:\n",
            "\t[ 8][16][ 7][ 8][ 7][19][10]\n",
            "雜湊表內容:\n",
            "  8 =>\t[-1][-1][-1][-1][-1][-1][-1][-1][ 8][-1]\n",
            " 16 =>\t[-1][-1][-1][-1][-1][-1][16][-1][ 8][-1]\n",
            "  7 =>\t[-1][-1][-1][-1][-1][-1][16][ 7][ 8][-1]\n",
            "  8 =>\t[ 8][-1][-1][-1][-1][-1][16][ 7][ 8][-1]\n",
            "  7 =>\t[ 8][-1][-1][-1][-1][-1][16][ 7][ 8][ 7]\n",
            " 19 =>\t[ 8][19][-1][-1][-1][-1][16][ 7][ 8][ 7]\n",
            " 10 =>\t[ 8][19][10][-1][-1][-1][16][ 7][ 8][ 7]\n",
            "完成雜湊表:\n",
            "\t[ 8][19][10][-1][-1][-1][16][ 7][ 8][ 7]\n"
          ],
          "name": "stdout"
        }
      ]
    }
  ]
}