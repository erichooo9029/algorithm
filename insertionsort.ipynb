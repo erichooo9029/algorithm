{
  "nbformat": 4,
  "nbformat_minor": 0,
  "metadata": {
    "colab": {
      "name": "insertionsort.ipynb",
      "provenance": [],
      "collapsed_sections": [],
      "include_colab_link": true
    },
    "kernelspec": {
      "name": "python3",
      "display_name": "Python 3"
    }
  },
  "cells": [
    {
      "cell_type": "markdown",
      "metadata": {
        "id": "view-in-github",
        "colab_type": "text"
      },
      "source": [
        "<a href=\"https://colab.research.google.com/github/erichooo9029/algorithm/blob/master/insertionsort.ipynb\" target=\"_parent\"><img src=\"https://colab.research.google.com/assets/colab-badge.svg\" alt=\"Open In Colab\"/></a>"
      ]
    },
    {
      "cell_type": "markdown",
      "metadata": {
        "id": "j95w6SLwOC0z"
      },
      "source": [
        "Insertion sort (插入排序)"
      ]
    },
    {
      "cell_type": "code",
      "metadata": {
        "id": "BxBaYEwzNj_v",
        "outputId": "20b27d67-e3b8-40dd-da0c-4e6198e44300",
        "colab": {
          "base_uri": "https://localhost:8080/",
          "height": 306
        }
      },
      "source": [
        "O(n²)\n",
        "def Insertion_Sort(datas):\n",
        "    for i in range(1, len(datas)):  \n",
        "        for j in range(i):\n",
        "            current = datas[i]\n",
        "            if current < datas[j]:\n",
        "                for k in range(i,j):\n",
        "                  print(datas)\n",
        "    return datas\n",
        "\n",
        "\n",
        "def insertionSort(arr):\n",
        "    for i in range(len(arr)): #n次\n",
        "        preIndex = i-1  #n次\n",
        "        current = arr[i] #n次\n",
        "        while preIndex >= 0 and arr[preIndex] > current: #n(2n)次\n",
        "            arr[preIndex+1] = arr[preIndex] #n次\n",
        "            preIndex-=1           #n次\n",
        "        arr[preIndex+1] = current       #n次\n",
        "        print(arr)           #\n",
        "    return arr\n",
        "\n",
        "if __name__ == '__main__':\n",
        "    import random\n",
        "    a = list(range(16))\n",
        "    random.shuffle(a)\n",
        "    b = a.copy()\n",
        "\n",
        "    arr = insertionSort(a)\n",
        "    print('---'*10)\n",
        "    Insertion_Sort(b)"
      ],
      "execution_count": null,
      "outputs": [
        {
          "output_type": "stream",
          "text": [
            "[3, 10, 15, 14, 7, 4, 6, 5, 0, 2, 12, 13, 8, 11, 1, 9]\n",
            "[3, 10, 15, 14, 7, 4, 6, 5, 0, 2, 12, 13, 8, 11, 1, 9]\n",
            "[3, 10, 15, 14, 7, 4, 6, 5, 0, 2, 12, 13, 8, 11, 1, 9]\n",
            "[3, 10, 14, 15, 7, 4, 6, 5, 0, 2, 12, 13, 8, 11, 1, 9]\n",
            "[3, 7, 10, 14, 15, 4, 6, 5, 0, 2, 12, 13, 8, 11, 1, 9]\n",
            "[3, 4, 7, 10, 14, 15, 6, 5, 0, 2, 12, 13, 8, 11, 1, 9]\n",
            "[3, 4, 6, 7, 10, 14, 15, 5, 0, 2, 12, 13, 8, 11, 1, 9]\n",
            "[3, 4, 5, 6, 7, 10, 14, 15, 0, 2, 12, 13, 8, 11, 1, 9]\n",
            "[0, 3, 4, 5, 6, 7, 10, 14, 15, 2, 12, 13, 8, 11, 1, 9]\n",
            "[0, 2, 3, 4, 5, 6, 7, 10, 14, 15, 12, 13, 8, 11, 1, 9]\n",
            "[0, 2, 3, 4, 5, 6, 7, 10, 12, 14, 15, 13, 8, 11, 1, 9]\n",
            "[0, 2, 3, 4, 5, 6, 7, 10, 12, 13, 14, 15, 8, 11, 1, 9]\n",
            "[0, 2, 3, 4, 5, 6, 7, 8, 10, 12, 13, 14, 15, 11, 1, 9]\n",
            "[0, 2, 3, 4, 5, 6, 7, 8, 10, 11, 12, 13, 14, 15, 1, 9]\n",
            "[0, 1, 2, 3, 4, 5, 6, 7, 8, 10, 11, 12, 13, 14, 15, 9]\n",
            "[0, 1, 2, 3, 4, 5, 6, 7, 8, 9, 10, 11, 12, 13, 14, 15]\n",
            "------------------------------\n"
          ],
          "name": "stdout"
        }
      ]
    }
  ]
}