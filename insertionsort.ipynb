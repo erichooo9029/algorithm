{
  "nbformat": 4,
  "nbformat_minor": 0,
  "metadata": {
    "colab": {
      "name": "insertionsort.ipynb",
      "provenance": [],
      "collapsed_sections": [],
      "include_colab_link": true
    },
    "kernelspec": {
      "name": "python3",
      "display_name": "Python 3"
    }
  },
  "cells": [
    {
      "cell_type": "markdown",
      "metadata": {
        "id": "view-in-github",
        "colab_type": "text"
      },
      "source": [
        "<a href=\"https://colab.research.google.com/github/erichooo9029/algorithm/blob/master/insertionsort.ipynb\" target=\"_parent\"><img src=\"https://colab.research.google.com/assets/colab-badge.svg\" alt=\"Open In Colab\"/></a>"
      ]
    },
    {
      "cell_type": "markdown",
      "metadata": {
        "id": "j95w6SLwOC0z",
        "colab_type": "text"
      },
      "source": [
        "Insertion sort (插入排序)"
      ]
    },
    {
      "cell_type": "code",
      "metadata": {
        "id": "BxBaYEwzNj_v",
        "colab_type": "code",
        "colab": {
          "base_uri": "https://localhost:8080/",
          "height": 289
        },
        "outputId": "d1b745ab-091f-49fd-91c7-b9728e83dfe1"
      },
      "source": [
        "\n",
        "def Insertion_Sort(datas):\n",
        "    for i in range(1, len(datas)):  # \n",
        "        for j in range(i):\n",
        "            current = datas[i]\n",
        "            if current < datas[j]:\n",
        "                for k in range(i,j):\n",
        "                  print(datas)\n",
        "    return datas\n",
        "\n",
        "\n",
        "def insertionSort(arr):\n",
        "    for i in range(len(arr)):\n",
        "        preIndex = i-1\n",
        "        current = arr[i]\n",
        "        while preIndex >= 0 and arr[preIndex] > current:\n",
        "            arr[preIndex+1] = arr[preIndex]\n",
        "            preIndex-=1\n",
        "        arr[preIndex+1] = current\n",
        "        print(arr)\n",
        "    return arr\n",
        "\n",
        "if __name__ == '__main__':\n",
        "    import random\n",
        "    a = list(range(15))\n",
        "    random.shuffle(a)\n",
        "    b = a.copy()\n",
        "\n",
        "    arr = insertionSort(a)\n",
        "    print('---'*15)\n",
        "    Insertion_Sort(b)"
      ],
      "execution_count": 2,
      "outputs": [
        {
          "output_type": "stream",
          "text": [
            "[12, 3, 13, 14, 4, 9, 0, 8, 5, 1, 2, 11, 6, 10, 7]\n",
            "[3, 12, 13, 14, 4, 9, 0, 8, 5, 1, 2, 11, 6, 10, 7]\n",
            "[3, 12, 13, 14, 4, 9, 0, 8, 5, 1, 2, 11, 6, 10, 7]\n",
            "[3, 12, 13, 14, 4, 9, 0, 8, 5, 1, 2, 11, 6, 10, 7]\n",
            "[3, 4, 12, 13, 14, 9, 0, 8, 5, 1, 2, 11, 6, 10, 7]\n",
            "[3, 4, 9, 12, 13, 14, 0, 8, 5, 1, 2, 11, 6, 10, 7]\n",
            "[0, 3, 4, 9, 12, 13, 14, 8, 5, 1, 2, 11, 6, 10, 7]\n",
            "[0, 3, 4, 8, 9, 12, 13, 14, 5, 1, 2, 11, 6, 10, 7]\n",
            "[0, 3, 4, 5, 8, 9, 12, 13, 14, 1, 2, 11, 6, 10, 7]\n",
            "[0, 1, 3, 4, 5, 8, 9, 12, 13, 14, 2, 11, 6, 10, 7]\n",
            "[0, 1, 2, 3, 4, 5, 8, 9, 12, 13, 14, 11, 6, 10, 7]\n",
            "[0, 1, 2, 3, 4, 5, 8, 9, 11, 12, 13, 14, 6, 10, 7]\n",
            "[0, 1, 2, 3, 4, 5, 6, 8, 9, 11, 12, 13, 14, 10, 7]\n",
            "[0, 1, 2, 3, 4, 5, 6, 8, 9, 10, 11, 12, 13, 14, 7]\n",
            "[0, 1, 2, 3, 4, 5, 6, 7, 8, 9, 10, 11, 12, 13, 14]\n",
            "---------------------------------------------\n"
          ],
          "name": "stdout"
        }
      ]
    }
  ]
}