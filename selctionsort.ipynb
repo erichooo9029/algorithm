{
  "nbformat": 4,
  "nbformat_minor": 0,
  "metadata": {
    "colab": {
      "name": "selctionsort.ipynb",
      "provenance": [],
      "collapsed_sections": [],
      "include_colab_link": true
    },
    "kernelspec": {
      "name": "python3",
      "display_name": "Python 3"
    }
  },
  "cells": [
    {
      "cell_type": "markdown",
      "metadata": {
        "id": "view-in-github",
        "colab_type": "text"
      },
      "source": [
        "<a href=\"https://colab.research.google.com/github/erichooo9029/algorithm/blob/master/selctionsort.ipynb\" target=\"_parent\"><img src=\"https://colab.research.google.com/assets/colab-badge.svg\" alt=\"Open In Colab\"/></a>"
      ]
    },
    {
      "cell_type": "markdown",
      "metadata": {
        "id": "W-Z0kMaDLJOp"
      },
      "source": [
        "Selection sort (選擇排序)"
      ]
    },
    {
      "cell_type": "markdown",
      "metadata": {
        "id": "hbcqN1wRU0kH"
      },
      "source": [
        "O(n²)"
      ]
    },
    {
      "cell_type": "code",
      "metadata": {
        "id": "8tM3sv79HQ_V",
        "outputId": "4817a527-af1f-4521-ba84-2aded3e3ad7f",
        "colab": {
          "base_uri": "https://localhost:8080/",
          "height": 561
        }
      },
      "source": [
        "def Selction_Sort(datas):\n",
        "    for i in range(len(datas)-1):             #n次\n",
        "        min = i # 第一次選從第一個數開始,第二次從第二個數開始   #n次\n",
        "        for j in range(i+1, len(datas)):    # 用記錄的max數與其他的比較 #n*n次\n",
        "            if datas[j] < datas[min]:         #n-1次\n",
        "                min = j               #1次\n",
        "\n",
        "        datas[i], datas[min] = datas[min], datas[i]         #總共n²+3n次\n",
        "\n",
        "        print(datas)\n",
        "        print('---'*10)\n",
        "    return datas\n",
        "\n",
        "\n",
        "if __name__ == '__main__':\n",
        "    import random\n",
        "    a = list(range(16))\n",
        "    random.shuffle(a)\n",
        "    print(a)\n",
        "    a = Selction_Sort(a)\n",
        "    print(a)"
      ],
      "execution_count": null,
      "outputs": [
        {
          "output_type": "stream",
          "text": [
            "[3, 11, 8, 14, 10, 9, 13, 6, 1, 5, 0, 2, 4, 15, 7, 12]\n",
            "[0, 11, 8, 14, 10, 9, 13, 6, 1, 5, 3, 2, 4, 15, 7, 12]\n",
            "------------------------------\n",
            "[0, 1, 8, 14, 10, 9, 13, 6, 11, 5, 3, 2, 4, 15, 7, 12]\n",
            "------------------------------\n",
            "[0, 1, 2, 14, 10, 9, 13, 6, 11, 5, 3, 8, 4, 15, 7, 12]\n",
            "------------------------------\n",
            "[0, 1, 2, 3, 10, 9, 13, 6, 11, 5, 14, 8, 4, 15, 7, 12]\n",
            "------------------------------\n",
            "[0, 1, 2, 3, 4, 9, 13, 6, 11, 5, 14, 8, 10, 15, 7, 12]\n",
            "------------------------------\n",
            "[0, 1, 2, 3, 4, 5, 13, 6, 11, 9, 14, 8, 10, 15, 7, 12]\n",
            "------------------------------\n",
            "[0, 1, 2, 3, 4, 5, 6, 13, 11, 9, 14, 8, 10, 15, 7, 12]\n",
            "------------------------------\n",
            "[0, 1, 2, 3, 4, 5, 6, 7, 11, 9, 14, 8, 10, 15, 13, 12]\n",
            "------------------------------\n",
            "[0, 1, 2, 3, 4, 5, 6, 7, 8, 9, 14, 11, 10, 15, 13, 12]\n",
            "------------------------------\n",
            "[0, 1, 2, 3, 4, 5, 6, 7, 8, 9, 14, 11, 10, 15, 13, 12]\n",
            "------------------------------\n",
            "[0, 1, 2, 3, 4, 5, 6, 7, 8, 9, 10, 11, 14, 15, 13, 12]\n",
            "------------------------------\n",
            "[0, 1, 2, 3, 4, 5, 6, 7, 8, 9, 10, 11, 14, 15, 13, 12]\n",
            "------------------------------\n",
            "[0, 1, 2, 3, 4, 5, 6, 7, 8, 9, 10, 11, 12, 15, 13, 14]\n",
            "------------------------------\n",
            "[0, 1, 2, 3, 4, 5, 6, 7, 8, 9, 10, 11, 12, 13, 15, 14]\n",
            "------------------------------\n",
            "[0, 1, 2, 3, 4, 5, 6, 7, 8, 9, 10, 11, 12, 13, 14, 15]\n",
            "------------------------------\n",
            "[0, 1, 2, 3, 4, 5, 6, 7, 8, 9, 10, 11, 12, 13, 14, 15]\n"
          ],
          "name": "stdout"
        }
      ]
    },
    {
      "cell_type": "markdown",
      "metadata": {
        "id": "MiWPt8bALDN5"
      },
      "source": [
        "請加入註解\n"
      ]
    }
  ]
}