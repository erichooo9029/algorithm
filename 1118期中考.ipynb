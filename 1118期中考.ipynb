{
  "nbformat": 4,
  "nbformat_minor": 0,
  "metadata": {
    "colab": {
      "name": "Untitled10.ipynb",
      "provenance": [],
      "authorship_tag": "ABX9TyNVYsNHHEhmtFx/Rb+eIhra",
      "include_colab_link": true
    },
    "kernelspec": {
      "name": "python3",
      "display_name": "Python 3"
    }
  },
  "cells": [
    {
      "cell_type": "markdown",
      "metadata": {
        "id": "view-in-github",
        "colab_type": "text"
      },
      "source": [
        "<a href=\"https://colab.research.google.com/github/erichooo9029/algorithm/blob/master/1118%E6%9C%9F%E4%B8%AD%E8%80%83.ipynb\" target=\"_parent\"><img src=\"https://colab.research.google.com/assets/colab-badge.svg\" alt=\"Open In Colab\"/></a>"
      ]
    },
    {
      "cell_type": "markdown",
      "metadata": {
        "id": "L0f_DWXGVo1T"
      },
      "source": [
        "Selection sort (選擇排序)"
      ]
    },
    {
      "cell_type": "code",
      "metadata": {
        "colab": {
          "base_uri": "https://localhost:8080/"
        },
        "id": "WsuWeVZgVLRw",
        "outputId": "5025843e-5150-456c-d34d-ecde3ea24621"
      },
      "source": [
        "def Selction_Sort(datas):\n",
        "    for i in range(len(datas)-1):             \n",
        "        max = i \n",
        "        for j in range(i+1, len(datas)):    \n",
        "            if datas[j] > datas[max]:         #比較第j與第i個元素\n",
        "                max = j              \n",
        "\n",
        "        datas[i], datas[max] = datas[max], datas[i]   #每次找的最大值與第i值交換      \n",
        "        print(f'第 %d 次排序:{datas}' %i)\n",
        "          \n",
        "        print('---'*10)\n",
        "    return datas\n",
        "\n",
        "\n",
        "if __name__ == '__main__':\n",
        "    import random\n",
        "    randomli = list(random.randint(0,100) for i in range(8)) #list中放入random的8個數字\n",
        "    random.shuffle(randomli)\n",
        "    print(\"原始數列為: \",randomli)\n",
        "    randomli = Selction_Sort(randomli)\n",
        "    "
      ],
      "execution_count": 37,
      "outputs": [
        {
          "output_type": "stream",
          "text": [
            "原始數列為:  [84, 11, 80, 70, 4, 86, 88, 50]\n",
            "第 0 次排序:[88, 11, 80, 70, 4, 86, 84, 50]\n",
            "------------------------------\n",
            "第 1 次排序:[88, 86, 80, 70, 4, 11, 84, 50]\n",
            "------------------------------\n",
            "第 2 次排序:[88, 86, 84, 70, 4, 11, 80, 50]\n",
            "------------------------------\n",
            "第 3 次排序:[88, 86, 84, 80, 4, 11, 70, 50]\n",
            "------------------------------\n",
            "第 4 次排序:[88, 86, 84, 80, 70, 11, 4, 50]\n",
            "------------------------------\n",
            "第 5 次排序:[88, 86, 84, 80, 70, 50, 4, 11]\n",
            "------------------------------\n",
            "第 6 次排序:[88, 86, 84, 80, 70, 50, 11, 4]\n",
            "------------------------------\n"
          ],
          "name": "stdout"
        }
      ]
    },
    {
      "cell_type": "markdown",
      "metadata": {
        "id": "zFHV4u_GZWWz"
      },
      "source": [
        "\n",
        "Insertion sort (插入排序)\n"
      ]
    },
    {
      "cell_type": "code",
      "metadata": {
        "colab": {
          "base_uri": "https://localhost:8080/"
        },
        "id": "v5FJw9fKZZlP",
        "outputId": "6d366897-b76c-4eb3-e882-fd9f06eccafe"
      },
      "source": [
        "def insertionSort(arr):\n",
        "    for i in range(len(arr)): \n",
        "        preIndex = i-1 \n",
        "        current = arr[i]  #用來暫存資料\n",
        "        while preIndex >= 0 and arr[preIndex] > current:\n",
        "            arr[preIndex+1] = arr[preIndex]   #把所有元素往後推一個位置\n",
        "            preIndex-=1           \n",
        "        arr[preIndex+1] = current        #最小的元素放到第一個元素\n",
        "        print(f'第 %d 次排序:{arr}' %i) \n",
        "                \n",
        "    return arr\n",
        "\n",
        "if __name__ == '__main__':\n",
        "    import random\n",
        "    randomli = list(random.randint(0,100) for i in range(8)) #list中放入random的8個數字\n",
        "    random.shuffle(randomli)\n",
        "    print(\"原始數列為: \",randomli)\n",
        "\n",
        "    arr = insertionSort(randomli)\n",
        "    "
      ],
      "execution_count": 36,
      "outputs": [
        {
          "output_type": "stream",
          "text": [
            "原始數列為:  [75, 10, 27, 84, 1, 20, 76, 93]\n",
            "第 0 次排序:[75, 10, 27, 84, 1, 20, 76, 93]\n",
            "第 1 次排序:[10, 75, 27, 84, 1, 20, 76, 93]\n",
            "第 2 次排序:[10, 27, 75, 84, 1, 20, 76, 93]\n",
            "第 3 次排序:[10, 27, 75, 84, 1, 20, 76, 93]\n",
            "第 4 次排序:[1, 10, 27, 75, 84, 20, 76, 93]\n",
            "第 5 次排序:[1, 10, 20, 27, 75, 84, 76, 93]\n",
            "第 6 次排序:[1, 10, 20, 27, 75, 76, 84, 93]\n",
            "第 7 次排序:[1, 10, 20, 27, 75, 76, 84, 93]\n"
          ],
          "name": "stdout"
        }
      ]
    }
  ]
}