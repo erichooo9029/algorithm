{
  "nbformat": 4,
  "nbformat_minor": 0,
  "metadata": {
    "colab": {
      "name": "Untitled10.ipynb",
      "provenance": [],
      "authorship_tag": "ABX9TyPeh6v623GOgaPiB7LJt8Ze",
      "include_colab_link": true
    },
    "kernelspec": {
      "name": "python3",
      "display_name": "Python 3"
    }
  },
  "cells": [
    {
      "cell_type": "markdown",
      "metadata": {
        "id": "view-in-github",
        "colab_type": "text"
      },
      "source": [
        "<a href=\"https://colab.research.google.com/github/erichooo9029/algorithm/blob/master/1118%E6%9C%9F%E4%B8%AD%E8%80%83.ipynb\" target=\"_parent\"><img src=\"https://colab.research.google.com/assets/colab-badge.svg\" alt=\"Open In Colab\"/></a>"
      ]
    },
    {
      "cell_type": "markdown",
      "metadata": {
        "id": "L0f_DWXGVo1T"
      },
      "source": [
        "Selection sort (選擇排序)"
      ]
    },
    {
      "cell_type": "code",
      "metadata": {
        "colab": {
          "base_uri": "https://localhost:8080/"
        },
        "id": "WsuWeVZgVLRw",
        "outputId": "34efbf2b-d63c-423e-e632-6daf8c23ebf0"
      },
      "source": [
        "def Selction_Sort(datas):\n",
        "    n=1\n",
        "    for i in range(len(datas)-1):             \n",
        "        max = i \n",
        "        for j in range(i+1, len(datas)):    \n",
        "            if datas[j] > datas[max]:         #比較第j與第i個元素\n",
        "                max = j              \n",
        "\n",
        "        datas[i], datas[max] = datas[max], datas[i]   #每次找的最大值與第i值交換      \n",
        "        print(f'第 %d 次排序:{datas}' %n)\n",
        "        n=n+1   \n",
        "        print('---'*10)\n",
        "    return datas\n",
        "\n",
        "\n",
        "if __name__ == '__main__':\n",
        "    import random\n",
        "    randomli = list(random.randint(0,100) for i in range(8)) #list中放入random的8個數字\n",
        "    random.shuffle(randomli)\n",
        "    print(\"原始數列為: \",randomli)\n",
        "    randomli = Selction_Sort(randomli)\n",
        "    "
      ],
      "execution_count": 34,
      "outputs": [
        {
          "output_type": "stream",
          "text": [
            "原始數列為:  [28, 50, 49, 97, 47, 63, 19, 44]\n",
            "第 1 次排序:[97, 50, 49, 28, 47, 63, 19, 44]\n",
            "------------------------------\n",
            "第 2 次排序:[97, 63, 49, 28, 47, 50, 19, 44]\n",
            "------------------------------\n",
            "第 3 次排序:[97, 63, 50, 28, 47, 49, 19, 44]\n",
            "------------------------------\n",
            "第 4 次排序:[97, 63, 50, 49, 47, 28, 19, 44]\n",
            "------------------------------\n",
            "第 5 次排序:[97, 63, 50, 49, 47, 28, 19, 44]\n",
            "------------------------------\n",
            "第 6 次排序:[97, 63, 50, 49, 47, 44, 19, 28]\n",
            "------------------------------\n",
            "第 7 次排序:[97, 63, 50, 49, 47, 44, 28, 19]\n",
            "------------------------------\n"
          ],
          "name": "stdout"
        }
      ]
    },
    {
      "cell_type": "markdown",
      "metadata": {
        "id": "zFHV4u_GZWWz"
      },
      "source": [
        "\n",
        "Insertion sort (插入排序)\n"
      ]
    },
    {
      "cell_type": "code",
      "metadata": {
        "colab": {
          "base_uri": "https://localhost:8080/"
        },
        "id": "v5FJw9fKZZlP",
        "outputId": "0d2995d7-fdd9-444c-f9f3-fd2fb89c89ff"
      },
      "source": [
        "def insertionSort(arr):\n",
        "    n=1\n",
        "    for i in range(len(arr)): \n",
        "        preIndex = i-1 \n",
        "        current = arr[i]  #用來暫存資料\n",
        "        while preIndex >= 0 and arr[preIndex] > current:\n",
        "            arr[preIndex+1] = arr[preIndex]   #把所有元素往後推一個位置\n",
        "            preIndex-=1           \n",
        "        arr[preIndex+1] = current        #最小的元素放到第一個元素\n",
        "        print(f'第 %d 次排序:{arr}' %n) \n",
        "        n=n+1          \n",
        "    return arr\n",
        "\n",
        "if __name__ == '__main__':\n",
        "    import random\n",
        "    randomli = list(random.randint(0,100) for i in range(8)) #list中放入random的8個數字\n",
        "    random.shuffle(randomli)\n",
        "    print(\"原始數列為: \",randomli)\n",
        "\n",
        "    arr = insertionSort(randomli)\n",
        "    "
      ],
      "execution_count": 35,
      "outputs": [
        {
          "output_type": "stream",
          "text": [
            "原始數列為:  [98, 51, 65, 21, 31, 73, 18, 99]\n",
            "第 1 次排序:[98, 51, 65, 21, 31, 73, 18, 99]\n",
            "第 2 次排序:[51, 98, 65, 21, 31, 73, 18, 99]\n",
            "第 3 次排序:[51, 65, 98, 21, 31, 73, 18, 99]\n",
            "第 4 次排序:[21, 51, 65, 98, 31, 73, 18, 99]\n",
            "第 5 次排序:[21, 31, 51, 65, 98, 73, 18, 99]\n",
            "第 6 次排序:[21, 31, 51, 65, 73, 98, 18, 99]\n",
            "第 7 次排序:[18, 21, 31, 51, 65, 73, 98, 99]\n",
            "第 8 次排序:[18, 21, 31, 51, 65, 73, 98, 99]\n"
          ],
          "name": "stdout"
        }
      ]
    }
  ]
}