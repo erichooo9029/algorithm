{
  "nbformat": 4,
  "nbformat_minor": 0,
  "metadata": {
    "colab": {
      "name": "Untitled10.ipynb",
      "provenance": [],
      "collapsed_sections": [],
      "authorship_tag": "ABX9TyPi4PKxI8IG7TwZUaOluX+U",
      "include_colab_link": true
    },
    "kernelspec": {
      "name": "python3",
      "display_name": "Python 3"
    }
  },
  "cells": [
    {
      "cell_type": "markdown",
      "metadata": {
        "id": "view-in-github",
        "colab_type": "text"
      },
      "source": [
        "<a href=\"https://colab.research.google.com/github/erichooo9029/algorithm/blob/master/1118%E6%9C%9F%E4%B8%AD%E8%80%83.ipynb\" target=\"_parent\"><img src=\"https://colab.research.google.com/assets/colab-badge.svg\" alt=\"Open In Colab\"/></a>"
      ]
    },
    {
      "cell_type": "markdown",
      "metadata": {
        "id": "L0f_DWXGVo1T"
      },
      "source": [
        "Selection sort (選擇排序)"
      ]
    },
    {
      "cell_type": "code",
      "metadata": {
        "colab": {
          "base_uri": "https://localhost:8080/"
        },
        "id": "WsuWeVZgVLRw",
        "outputId": "e80756eb-b753-42c1-fbd3-1eeb3db2bfd3"
      },
      "source": [
        "def Selction_Sort(datas):\n",
        "    c=1\n",
        "    for i in range(len(datas)-1):             \n",
        "        max = i \n",
        "        for j in range(i+1, len(datas)):    \n",
        "            if datas[j] > datas[max]:         #比較第j與第i個元素\n",
        "                max = j              \n",
        "\n",
        "        datas[i], datas[max] = datas[max], datas[i]   #每次找的最大值與第i值交換      \n",
        "        print(f'第 %d 次排序:{datas}' %n)\n",
        "        c=c+1   \n",
        "        print('---'*10)\n",
        "    return datas\n",
        "\n",
        "\n",
        "if __name__ == '__main__':\n",
        "    import random\n",
        "    randomli = list(random.randint(0,100) for i in range(8)) #list中放入random的8個數字\n",
        "    random.shuffle(randomli)\n",
        "    print(\"原始數列為: \",randomli)\n",
        "    randomli = Selction_Sort(randomli)\n",
        "    "
      ],
      "execution_count": 38,
      "outputs": [
        {
          "output_type": "stream",
          "text": [
            "原始數列為:  [26, 3, 82, 36, 100, 49, 88, 9]\n",
            "第 1 次排序:[100, 3, 82, 36, 26, 49, 88, 9]\n",
            "------------------------------\n",
            "第 2 次排序:[100, 88, 82, 36, 26, 49, 3, 9]\n",
            "------------------------------\n",
            "第 3 次排序:[100, 88, 82, 36, 26, 49, 3, 9]\n",
            "------------------------------\n",
            "第 4 次排序:[100, 88, 82, 49, 26, 36, 3, 9]\n",
            "------------------------------\n",
            "第 5 次排序:[100, 88, 82, 49, 36, 26, 3, 9]\n",
            "------------------------------\n",
            "第 6 次排序:[100, 88, 82, 49, 36, 26, 3, 9]\n",
            "------------------------------\n",
            "第 7 次排序:[100, 88, 82, 49, 36, 26, 9, 3]\n",
            "------------------------------\n"
          ],
          "name": "stdout"
        }
      ]
    },
    {
      "cell_type": "markdown",
      "metadata": {
        "id": "zFHV4u_GZWWz"
      },
      "source": [
        "\n",
        "Insertion sort (插入排序)\n"
      ]
    },
    {
      "cell_type": "code",
      "metadata": {
        "colab": {
          "base_uri": "https://localhost:8080/"
        },
        "id": "v5FJw9fKZZlP",
        "outputId": "75e6c476-f246-4e63-e4b3-016ed333e137"
      },
      "source": [
        "def insertionSort(arr):\n",
        "    c=0\n",
        "    for i in range(len(arr)): \n",
        "        preIndex = i-1 \n",
        "        current = arr[i]  #用來暫存資料\n",
        "        while preIndex >= 0 and arr[preIndex] > current:\n",
        "            arr[preIndex+1] = arr[preIndex]   #把所有元素往後推一個位置\n",
        "            preIndex-=1           \n",
        "        arr[preIndex+1] = current        #最小的元素放到第一個元素\n",
        "        if c==0:\n",
        "          print(\"原始數列為: \",arr)\n",
        "          c=c+1\n",
        "        else:\n",
        "          print(f'第 %d 次排序:{arr}' %c)\n",
        "          c=c+1\n",
        "\n",
        "    return arr\n",
        "\n",
        "if __name__ == '__main__':\n",
        "    import random\n",
        "    randomli = list(random.randint(0,100) for i in range(8)) #list中放入random的8個數字\n",
        "    random.shuffle(randomli)\n",
        "\n",
        "    arr = insertionSort(randomli)\n",
        "    "
      ],
      "execution_count": 52,
      "outputs": [
        {
          "output_type": "stream",
          "text": [
            "原始數列為:  [7, 100, 74, 37, 59, 61, 38, 55]\n",
            "第 1 次排序:[7, 100, 74, 37, 59, 61, 38, 55]\n",
            "第 2 次排序:[7, 74, 100, 37, 59, 61, 38, 55]\n",
            "第 3 次排序:[7, 37, 74, 100, 59, 61, 38, 55]\n",
            "第 4 次排序:[7, 37, 59, 74, 100, 61, 38, 55]\n",
            "第 5 次排序:[7, 37, 59, 61, 74, 100, 38, 55]\n",
            "第 6 次排序:[7, 37, 38, 59, 61, 74, 100, 55]\n",
            "第 7 次排序:[7, 37, 38, 55, 59, 61, 74, 100]\n"
          ],
          "name": "stdout"
        }
      ]
    }
  ]
}