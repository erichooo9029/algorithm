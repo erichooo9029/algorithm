{
  "nbformat": 4,
  "nbformat_minor": 0,
  "metadata": {
    "colab": {
      "name": "Untitled2.ipynb",
      "provenance": [],
      "authorship_tag": "ABX9TyO9Pv+wIV9jDWYy0TDXJ+ju",
      "include_colab_link": true
    },
    "kernelspec": {
      "name": "python3",
      "display_name": "Python 3"
    }
  },
  "cells": [
    {
      "cell_type": "markdown",
      "metadata": {
        "id": "view-in-github",
        "colab_type": "text"
      },
      "source": [
        "<a href=\"https://colab.research.google.com/github/erichooo9029/algorithm/blob/master/%E9%A0%86%E5%BA%8F%E6%BC%94%E7%AE%97%E6%B3%95%20(Sequential%20Search)20201014.ipynb\" target=\"_parent\"><img src=\"https://colab.research.google.com/assets/colab-badge.svg\" alt=\"Open In Colab\"/></a>"
      ]
    },
    {
      "cell_type": "markdown",
      "metadata": {
        "id": "zUNSu7QGx_I9"
      },
      "source": [
        "順序演算法 (Sequential Search)\n"
      ]
    },
    {
      "cell_type": "code",
      "metadata": {
        "id": "SQ5ukyGmo0b_",
        "outputId": "66b5b78b-ea0c-44ed-eea2-afba1ad473fa",
        "colab": {
          "base_uri": "https://localhost:8080/",
          "height": 51
        }
      },
      "source": [
        "data=[20,31,50,17,16,36,19,8]\n",
        "a=int(input(\"輸入要的數字\"))\n",
        "def sequential_search(data,key):\n",
        "  for i in data:\n",
        "    if i == key:\n",
        "      print(\"找到了\") \n",
        "      break\n",
        "  else:\n",
        "    print(\"找不到\")\n",
        "sequential_search(data,a)"
      ],
      "execution_count": 22,
      "outputs": [
        {
          "output_type": "stream",
          "text": [
            "輸入要的數字6\n",
            "找不到\n"
          ],
          "name": "stdout"
        }
      ]
    }
  ]
}