{
  "nbformat": 4,
  "nbformat_minor": 0,
  "metadata": {
    "colab": {
      "name": "Untitled5.ipynb",
      "provenance": [],
      "authorship_tag": "ABX9TyM+W5vAnxg8xoYM0vLseuyP",
      "include_colab_link": true
    },
    "kernelspec": {
      "name": "python3",
      "display_name": "Python 3"
    }
  },
  "cells": [
    {
      "cell_type": "markdown",
      "metadata": {
        "id": "view-in-github",
        "colab_type": "text"
      },
      "source": [
        "<a href=\"https://colab.research.google.com/github/erichooo9029/algorithm/blob/master/password20201104.ipynb\" target=\"_parent\"><img src=\"https://colab.research.google.com/assets/colab-badge.svg\" alt=\"Open In Colab\"/></a>"
      ]
    },
    {
      "cell_type": "code",
      "metadata": {
        "id": "cNEKTZLEEL8P",
        "outputId": "86513ec9-d63c-4c3d-d998-24941c546a9c",
        "colab": {
          "base_uri": "https://localhost:8080/"
        }
      },
      "source": [
        "import random\n",
        "\n",
        "ran=random.randint(1,100)\n",
        "i=1\n",
        "first=100\n",
        "last=int(1)\n",
        "\n",
        "while i in range(1,1000000):\n",
        "  inputa=int(input(\"請輸入你猜的數字\"))\n",
        "  print(ran)\n",
        "\n",
        "  if inputa == ran:\n",
        "    print(\"你猜對了\")\n",
        "  elif inputa < ran:\n",
        "    last=inputa;\n",
        "    print('密碼介於 ' + str(last) + '-' + str(first) + ':\\n>>')\n",
        "  else:\n",
        "    first=inputa;\n",
        "    print('密碼介於 ' + str(last) + '-' + str(first) + ':\\n>>')\n",
        "  \n",
        "  \n",
        "  i=i+1;\n",
        "\n",
        "\n",
        "  \n",
        "\n"
      ],
      "execution_count": null,
      "outputs": [
        {
          "output_type": "stream",
          "text": [
            "請輸入你猜的數字26\n",
            "72\n",
            "密碼介於 26-100:\n",
            ">>\n",
            "請輸入你猜的數字99\n",
            "72\n",
            "密碼介於 26-99:\n",
            ">>\n",
            "請輸入你猜的數字72\n",
            "72\n",
            "你猜對了\n"
          ],
          "name": "stdout"
        }
      ]
    }
  ]
}