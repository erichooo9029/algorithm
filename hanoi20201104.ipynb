{
  "nbformat": 4,
  "nbformat_minor": 0,
  "metadata": {
    "colab": {
      "name": "Untitled6.ipynb",
      "provenance": [],
      "authorship_tag": "ABX9TyNITxWP1h+FdPyltFyYcsoG",
      "include_colab_link": true
    },
    "kernelspec": {
      "name": "python3",
      "display_name": "Python 3"
    }
  },
  "cells": [
    {
      "cell_type": "markdown",
      "metadata": {
        "id": "view-in-github",
        "colab_type": "text"
      },
      "source": [
        "<a href=\"https://colab.research.google.com/github/erichooo9029/algorithm/blob/master/hanoi20201104.ipynb\" target=\"_parent\"><img src=\"https://colab.research.google.com/assets/colab-badge.svg\" alt=\"Open In Colab\"/></a>"
      ]
    },
    {
      "cell_type": "code",
      "metadata": {
        "id": "8mE0oM9tNzgx",
        "outputId": "dfe883c8-807e-4490-b8c8-814e5d301aac",
        "colab": {
          "base_uri": "https://localhost:8080/"
        }
      },
      "source": [
        "x=0\n",
        "\n",
        "def hanoi(n,p1,p2,p3):\n",
        "  global x\n",
        "  if n==1:\n",
        "    print('%d 到 %d'%(p1,p3))\n",
        "    x=x+1\n",
        "  else:\n",
        "    hanoi(n-1,p1,p3,p2)\n",
        "    print('%d 到 %d'%(p1,p3))\n",
        "    x=x+1\n",
        "    hanoi(n-1,p2,p1,p3)\n",
        "\n",
        "j=int(input(\"移動套環數:\"))\n",
        "hanoi(j,1,2,3)\n",
        "print(\"移動 %d 次\" % x)"
      ],
      "execution_count": 11,
      "outputs": [
        {
          "output_type": "stream",
          "text": [
            "移動套環數:3\n",
            "1 到 3\n",
            "1 到 2\n",
            "3 到 2\n",
            "1 到 3\n",
            "2 到 1\n",
            "2 到 3\n",
            "1 到 3\n",
            "移動 7 次\n"
          ],
          "name": "stdout"
        }
      ]
    }
  ]
}