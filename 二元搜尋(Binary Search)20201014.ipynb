{
  "nbformat": 4,
  "nbformat_minor": 0,
  "metadata": {
    "colab": {
      "name": "Untitled3.ipynb",
      "provenance": [],
      "authorship_tag": "ABX9TyPw1zH3l7qN+P/kLG/rzIfF",
      "include_colab_link": true
    },
    "kernelspec": {
      "name": "python3",
      "display_name": "Python 3"
    }
  },
  "cells": [
    {
      "cell_type": "markdown",
      "metadata": {
        "id": "view-in-github",
        "colab_type": "text"
      },
      "source": [
        "<a href=\"https://colab.research.google.com/github/erichooo9029/algorithm/blob/master/%E4%BA%8C%E5%85%83%E6%90%9C%E5%B0%8B(Binary%20Search)20201014.ipynb\" target=\"_parent\"><img src=\"https://colab.research.google.com/assets/colab-badge.svg\" alt=\"Open In Colab\"/></a>"
      ]
    },
    {
      "cell_type": "code",
      "metadata": {
        "id": "8Fh8IAQhAute"
      },
      "source": [
        "二元搜尋 (Binary Search)"
      ],
      "execution_count": null,
      "outputs": []
    },
    {
      "cell_type": "code",
      "metadata": {
        "id": "MgsgQAOO4Sku",
        "outputId": "f90f2614-486d-4be9-8f85-86c2bc5cc907",
        "colab": {
          "base_uri": "https://localhost:8080/",
          "height": 34
        }
      },
      "source": [
        "def binarySearch (arr,l,r,x):\n",
        "  if r>=l:\n",
        "    mid = l+ (r-l) // 2\n",
        "\n",
        "    if arr[mid] == x:\n",
        "      return mid\n",
        "    elif arr[mid] > x:\n",
        "      binarySearch(arr,l,mid-1,x)\n",
        "    else:\n",
        "      return binarySearch(arr,mid+1,r,x)\n",
        "  else:\n",
        "    return-1\n",
        "\n",
        "arr = [5,8,9,15,30]\n",
        "x = 9\n",
        "\n",
        "#Function call\n",
        "result = binarySearch(arr,0,len(arr)-1,x)\n",
        "\n",
        "if result != -1:\n",
        "  print(\"元素在索引 %d\" % result)\n",
        "else:\n",
        "  print(\"陣列中找不到該元素\")\n"
      ],
      "execution_count": 9,
      "outputs": [
        {
          "output_type": "stream",
          "text": [
            "元素在索引 2\n"
          ],
          "name": "stdout"
        }
      ]
    },
    {
      "cell_type": "code",
      "metadata": {
        "id": "yoj7Si2o_tcB",
        "outputId": "e7fdca3c-e082-42e9-eb2d-1b1bb60bdbba",
        "colab": {
          "base_uri": "https://localhost:8080/",
          "height": 136
        }
      },
      "source": [
        "def binarySearch (arr,l,r,x):\n",
        "  if r>=l:\n",
        "    mid = l+ (r-l) // 2\n",
        "\n",
        "    if numberList[mid] == x:\n",
        "      return mid\n",
        "    elif numberList[mid] > x:\n",
        "      binarySearch(numberList,l,mid-1,x)\n",
        "    else:\n",
        "      return binarySearch(numberList,mid+1,r,x)\n",
        "  else:\n",
        "    return-1\n",
        "\n",
        "\n",
        "\n",
        "\n",
        "def Bubble_Sort(datas):\n",
        "    for i in range(1, len(datas)): # \n",
        "        for j in range(len(datas)-i):   # \n",
        "            if datas[j] > datas[j+1]:   # \n",
        "                datas[j], datas[j+1] = datas[j+1], datas[j]\n",
        "    return datas\n",
        "\n",
        "\n",
        "if __name__ == '__main__':\n",
        "    import random\n",
        "    numberList = []  #input內容放於list\n",
        "    input_string = input(\"輸入一個數字完按空白再輸入下一個\") #輸入數值\n",
        "    numberList = input_string.split()\n",
        "    for i in range(len(numberList)):\n",
        "      numberList[i] = int(numberList[i])\n",
        "    \n",
        "    print(\"你輸入的是 \",numberList) #還沒把數值random前\n",
        "    random.shuffle(numberList)\n",
        "    print(\"random後\",numberList) #random後\n",
        "    a = Bubble_Sort(numberList)\n",
        "    print(\"排序完\",a) #排序完\n",
        "\n",
        "x=int(input(\"請輸入要索引的數字\"))\n",
        "print(\"你要搜尋的是 %d\" % x)\n",
        "#Function call\n",
        "result = binarySearch(numberList,0,len(numberList)-1,x)\n",
        "\n",
        "if result != -1:\n",
        "  print(\"元素在索引 %d\" % result)\n",
        "else:\n",
        "  print(\"陣列中找不到該元素\")"
      ],
      "execution_count": 15,
      "outputs": [
        {
          "output_type": "stream",
          "text": [
            "輸入一個數字完按空白再輸入下一個20 45 86 143 58\n",
            "你輸入的是  [20, 45, 86, 143, 58]\n",
            "random後 [20, 143, 45, 86, 58]\n",
            "排序完 [20, 45, 58, 86, 143]\n",
            "請輸入要索引的數字58\n",
            "你要搜尋的是 58\n",
            "元素在索引 2\n"
          ],
          "name": "stdout"
        }
      ]
    }
  ]
}