{
  "nbformat": 4,
  "nbformat_minor": 0,
  "metadata": {
    "colab": {
      "name": "Untitled11.ipynb",
      "provenance": [],
      "authorship_tag": "ABX9TyOfkOqE/EkxBqDKuEJJLA8g",
      "include_colab_link": true
    },
    "kernelspec": {
      "name": "python3",
      "display_name": "Python 3"
    }
  },
  "cells": [
    {
      "cell_type": "markdown",
      "metadata": {
        "id": "view-in-github",
        "colab_type": "text"
      },
      "source": [
        "<a href=\"https://colab.research.google.com/github/erichooo9029/algorithm/blob/master/1202.ipynb\" target=\"_parent\"><img src=\"https://colab.research.google.com/assets/colab-badge.svg\" alt=\"Open In Colab\"/></a>"
      ]
    },
    {
      "cell_type": "code",
      "metadata": {
        "colab": {
          "base_uri": "https://localhost:8080/"
        },
        "id": "psVDQauZI-Pf",
        "outputId": "49974c82-fa30-46a6-9eaa-ee1865a3456a"
      },
      "source": [
        "t = [25,20,5,1]\n",
        "u=int(input(\"請輸入要找的數目\"))\n",
        "def change(t,n):\n",
        "  m = [0 for _ in range(len(t))]\n",
        "  for i ,money in enumerate(t):\n",
        "    if n>=1:\n",
        "        m[i] = n // money\n",
        "        n = n % money\n",
        "        print(m,n)\n",
        "    else:\n",
        "        return  m,n\n",
        "\n",
        "\n",
        "\n",
        "change(t,u)\n",
        "\n"
      ],
      "execution_count": 2,
      "outputs": [
        {
          "output_type": "stream",
          "text": [
            "請輸入要找的數目42\n",
            "[1, 0, 0, 0] 17\n",
            "[1, 0, 0, 0] 17\n",
            "[1, 0, 3, 0] 2\n",
            "[1, 0, 3, 2] 0\n"
          ],
          "name": "stdout"
        }
      ]
    }
  ]
}