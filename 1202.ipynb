{
  "nbformat": 4,
  "nbformat_minor": 0,
  "metadata": {
    "colab": {
      "name": "Untitled11.ipynb",
      "provenance": [],
      "authorship_tag": "ABX9TyM2QI2wC17KQLauh5eo9kbd",
      "include_colab_link": true
    },
    "kernelspec": {
      "display_name": "Python 3",
      "name": "python3"
    }
  },
  "cells": [
    {
      "cell_type": "markdown",
      "metadata": {
        "id": "view-in-github",
        "colab_type": "text"
      },
      "source": [
        "<a href=\"https://colab.research.google.com/github/erichooo9029/algorithm/blob/master/1202.ipynb\" target=\"_parent\"><img src=\"https://colab.research.google.com/assets/colab-badge.svg\" alt=\"Open In Colab\"/></a>"
      ]
    },
    {
      "cell_type": "markdown",
      "metadata": {
        "id": "lkpwOvtOkepU"
      },
      "source": [
        "找錢問題(貪婪"
      ]
    },
    {
      "cell_type": "code",
      "metadata": {
        "colab": {
          "base_uri": "https://localhost:8080/"
        },
        "id": "psVDQauZI-Pf",
        "outputId": "91df3c8e-4279-4d2e-83a0-eb264a8d4933"
      },
      "source": [
        "t = [25,20,5,1]\n",
        "u=int(input(\"請輸入要找的數目\"))\n",
        "def change(t,n):\n",
        "  m = [0 for _ in range(len(t))]\n",
        "  for i ,money in enumerate(t):\n",
        "    if n>=1:\n",
        "        m[i] = n // money\n",
        "        n = n % money\n",
        "        print(m,n)\n",
        "    else:\n",
        "        return  m,n\n",
        "\n",
        "\n",
        "\n",
        "change(t,u)\n",
        "\n"
      ],
      "execution_count": null,
      "outputs": [
        {
          "output_type": "stream",
          "text": [
            "請輸入要找的數目21\n",
            "[0, 0, 0, 0] 21\n",
            "[0, 1, 0, 0] 1\n",
            "[0, 1, 0, 0] 1\n",
            "[0, 1, 0, 1] 0\n"
          ],
          "name": "stdout"
        }
      ]
    },
    {
      "cell_type": "code",
      "metadata": {
        "id": "M-ZCvgvdR9W1"
      },
      "source": [
        ""
      ],
      "execution_count": null,
      "outputs": []
    },
    {
      "cell_type": "markdown",
      "metadata": {
        "id": "8uwB9m3rkitK"
      },
      "source": [
        "找錢問題(DP\n"
      ]
    },
    {
      "cell_type": "code",
      "metadata": {
        "colab": {
          "base_uri": "https://localhost:8080/"
        },
        "id": "p3BXuKnkURdr",
        "outputId": "8ec1d3bd-338e-4cab-d964-ebce1a434ddf"
      },
      "source": [
        "class Solution(object):\n",
        "   def coinChange(self, coins, amount):\n",
        "      if amount == 0 :\n",
        "         return 0\n",
        "      if min(coins) > amount:\n",
        "         return -1\n",
        "      dp = [-1 for i in range(0, amount + 1)]\n",
        "      for i in coins:\n",
        "         if i > len(dp) - 1:\n",
        "            continue\n",
        "         dp[i] = 1\n",
        "         for j in range(i + 1, amount + 1):\n",
        "            if dp[j - i] == -1:\n",
        "               continue\n",
        "            elif dp[j] == -1:\n",
        "               dp[j] = dp[j - i] + 1\n",
        "            else:\n",
        "               dp[j] = min(dp[j], dp[j - i] + 1)\n",
        "         #print(dp)\n",
        "      return dp[amount]\n",
        "ob1 = Solution()\n",
        "print(ob1.coinChange([1,5,20,25], 11))"
      ],
      "execution_count": 14,
      "outputs": [
        {
          "output_type": "stream",
          "text": [
            "3\n"
          ],
          "name": "stdout"
        }
      ]
    },
    {
      "cell_type": "markdown",
      "metadata": {
        "id": "Rjin42QUkbHd"
      },
      "source": [
        "背包問題(貪婪"
      ]
    },
    {
      "cell_type": "code",
      "metadata": {
        "colab": {
          "base_uri": "https://localhost:8080/"
        },
        "id": "fwn4Q28MVkyM",
        "outputId": "a7ce812c-cfbd-41af-ef30-13b4409eee63"
      },
      "source": [
        "class goods:\n",
        "  def __init__(self, goods_id, weight=0, value=0):\n",
        "    self.id = goods_id\n",
        "    self.weight = weight\n",
        "    self.value = value\n",
        "\n",
        "def knapsack(capacity=0, goods_set=[]):\n",
        "\n",
        "  goods_set.sort(key=lambda obj: obj.value, reverse=True)\n",
        "  result = []\n",
        "  for a_goods in goods_set:\n",
        "    if capacity < a_goods.weight:\n",
        "      continue\n",
        "    result.append(a_goods)\n",
        "    capacity -= a_goods.weight\n",
        "  if len(result) < len(goods_set) and capacity != 0:\n",
        "    result.append(goods(a_goods.id, capacity,  a_goods.value * capacity / a_goods.weight))\n",
        "  return result\n",
        "some_goods = [goods('PS5', 5, 17000), goods('Ipad pro 12', 1, 35000), goods('Macbook pro 15', 4, 60000), goods('HomePod', 3, 9000), goods('Mac mini', 2, 20000)]\n",
        "\n",
        "res = knapsack(10, some_goods)\n",
        "\n",
        "\n",
        "for obj in res:\n",
        "  print('物品名:' + str(obj.id) + ' ,放入重量:' + str(obj.weight) + ',價值:' + str(obj.value), end=',')\n",
        "  print()\n"
      ],
      "execution_count": 13,
      "outputs": [
        {
          "output_type": "stream",
          "text": [
            "物品名:Macbook pro 15 ,放入重量:4,價值:60000,\n",
            "物品名:Ipad pro 12 ,放入重量:1,價值:35000,\n",
            "物品名:Mac mini ,放入重量:2,價值:20000,\n",
            "物品名:HomePod ,放入重量:3,價值:9000,\n"
          ],
          "name": "stdout"
        }
      ]
    },
    {
      "cell_type": "markdown",
      "metadata": {
        "id": "Huvk3n3DkllZ"
      },
      "source": [
        "背包問題(DP"
      ]
    },
    {
      "cell_type": "code",
      "metadata": {
        "id": "khzsaFXxknWe"
      },
      "source": [
        ""
      ],
      "execution_count": null,
      "outputs": []
    }
  ]
}