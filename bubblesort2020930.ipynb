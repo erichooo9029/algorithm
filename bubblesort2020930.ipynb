{
  "nbformat": 4,
  "nbformat_minor": 0,
  "metadata": {
    "colab": {
      "name": "bubblesort2020930.ipynb",
      "provenance": [],
      "include_colab_link": true
    },
    "kernelspec": {
      "name": "python3",
      "display_name": "Python 3"
    }
  },
  "cells": [
    {
      "cell_type": "markdown",
      "metadata": {
        "id": "view-in-github",
        "colab_type": "text"
      },
      "source": [
        "<a href=\"https://colab.research.google.com/github/erichooo9029/algorithm/blob/master/bubblesort2020930.ipynb\" target=\"_parent\"><img src=\"https://colab.research.google.com/assets/colab-badge.svg\" alt=\"Open In Colab\"/></a>"
      ]
    },
    {
      "cell_type": "markdown",
      "metadata": {
        "id": "32sgU0StMiof"
      },
      "source": [
        "Bubble sort (氣泡排序)"
      ]
    },
    {
      "cell_type": "code",
      "metadata": {
        "id": "esB_4fSeMLYJ",
        "outputId": "9a56b153-b8db-46a9-84e3-9e31df65e5bb",
        "colab": {
          "base_uri": "https://localhost:8080/",
          "height": 85
        }
      },
      "source": [
        "def Bubble_Sort(datas):\n",
        "    for i in range(1, len(datas)): # \n",
        "        for j in range(len(datas)-i):   # \n",
        "            if datas[j] > datas[j+1]:   # \n",
        "                datas[j], datas[j+1] = datas[j+1], datas[j]\n",
        "    return datas\n",
        "\n",
        "\n",
        "if __name__ == '__main__':\n",
        "    import random\n",
        "    numberList = []  #input內容放於list\n",
        "    input_string = input(\"輸入一個數字完按空白再輸入下一個\") #輸入數值\n",
        "    numberList = input_string.split()\n",
        "    for i in range(len(numberList)):\n",
        "      numberList[i] = int(numberList[i])\n",
        "    \n",
        "    print(\"你輸入的是 \",numberList) #還沒把數值random前\n",
        "    random.shuffle(numberList)\n",
        "    print(\"random後\",numberList) #random後\n",
        "    a = Bubble_Sort(numberList)\n",
        "    print(\"排序完\",a) #排序完"
      ],
      "execution_count": 35,
      "outputs": [
        {
          "output_type": "stream",
          "text": [
            "輸入一個數字完按空白再輸入下一個454 878 7876 4433 478753 43473 \n",
            "你輸入的是  [454, 878, 7876, 4433, 478753, 43473]\n",
            "random後 [454, 7876, 43473, 478753, 4433, 878]\n",
            "排序完 [454, 878, 4433, 7876, 43473, 478753]\n"
          ],
          "name": "stdout"
        }
      ]
    },
    {
      "cell_type": "markdown",
      "metadata": {
        "id": "MOQ_aZKnM-wL"
      },
      "source": [
        "請加入註解，並將程式修改為加入六個數做氣泡排序\n"
      ]
    }
  ]
}